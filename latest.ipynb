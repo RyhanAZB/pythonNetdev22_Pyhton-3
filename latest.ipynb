{
 "cells": [
  {
   "cell_type": "code",
   "execution_count": 14,
   "metadata": {},
   "outputs": [],
   "source": [
    "import matplotlib.pyplot as plt\n",
    "import pandas as pd"
   ]
  },
  {
   "cell_type": "code",
   "execution_count": 15,
   "metadata": {},
   "outputs": [
    {
     "name": "stderr",
     "output_type": "stream",
     "text": [
      "C:\\Users\\rafsa\\AppData\\Roaming\\Python\\Python39\\site-packages\\IPython\\core\\interactiveshell.py:3106: DtypeWarning: Columns (22,23) have mixed types.Specify dtype option on import or set low_memory=False.\n",
      "  has_raised = await self.run_ast_nodes(code_ast.body, cell_name,\n"
     ]
    }
   ],
   "source": [
    "df = pd.read_csv('dataset.csv', parse_dates=['Date_Onset']) \n"
   ]
  },
  {
   "cell_type": "code",
   "execution_count": 16,
   "metadata": {},
   "outputs": [
    {
     "name": "stdout",
     "output_type": "stream",
     "text": [
      "Dimensi dataset Dengue adalah 79257 x 30\n"
     ]
    }
   ],
   "source": [
    "baris = df.shape[0]\n",
    "kolom = df.shape[1]\n",
    "print(\"Dimensi dataset Dengue adalah\", baris, \"x\", kolom)\n"
   ]
  },
  {
   "cell_type": "code",
   "execution_count": 17,
   "metadata": {},
   "outputs": [
    {
     "name": "stdout",
     "output_type": "stream",
     "text": [
      "Jumlah sampel Laki-Laki adalah 39524 Jiwa\n",
      "Jumlah sampel Perempuan adalah 39732 Jiwa\n"
     ]
    }
   ],
   "source": [
    "gender = df[\"Sex\"].value_counts() \n",
    "print(\"Jumlah sampel Laki-Laki adalah\", gender[1], \"Jiwa\")\n",
    "print(\"Jumlah sampel Perempuan adalah\", gender[0], \"Jiwa\")"
   ]
  },
  {
   "cell_type": "code",
   "execution_count": 18,
   "metadata": {},
   "outputs": [
    {
     "data": {
      "text/plain": [
       "<AxesSubplot:>"
      ]
     },
     "execution_count": 18,
     "metadata": {},
     "output_type": "execute_result"
    },
    {
     "data": {
      "image/png": "[encoded data removed]",
      "text/plain": [
       "<Figure size 432x288 with 1 Axes>"
      ]
     },
     "metadata": {},
     "output_type": "display_data"
    }
   ],
   "source": [
    "age = df[\"Age_Group\"]\n",
    "jumlah_age=age.value_counts().sort_index(ascending=False).drop(['0','1','2','3','4','5-9','10-14'])\n",
    "plt.style.use('ggplot')\n",
    "jumlah_age.plot.barh()"
   ]
  },
  {
   "cell_type": "code",
   "execution_count": 19,
   "metadata": {},
   "outputs": [
    {
     "name": "stdout",
     "output_type": "stream",
     "text": [
      "          Number_of_confirmed_cases\n",
      "Imported                           \n",
      "N                             75443\n",
      "Y                              3816\n"
     ]
    },
    {
     "data": {
      "image/png": "[encoded data removed]",
      "text/plain": [
       "<Figure size 432x288 with 1 Axes>"
      ]
     },
     "metadata": {},
     "output_type": "display_data"
    }
   ],
   "source": [
    "print(df.groupby('Imported').sum())\n",
    "color = ['b','r']\n",
    "df['Imported'].value_counts().plot.barh(color=color, title='Distribution Imported or Not Imported')\n",
    "plt.show()"
   ]
  },
  {
   "cell_type": "code",
   "execution_count": 20,
   "metadata": {},
   "outputs": [
    {
     "data": {
      "text/html": [
       "<div>\n",
       "<style scoped>\n",
       "    .dataframe tbody tr th:only-of-type {\n",
       "        vertical-align: middle;\n",
       "    }\n",
       "\n",
       "    .dataframe tbody tr th {\n",
       "        vertical-align: top;\n",
       "    }\n",
       "\n",
       "    .dataframe thead th {\n",
       "        text-align: right;\n",
       "    }\n",
       "</style>\n",
       "<table border=\"1\" class=\"dataframe\">\n",
       "  <thead>\n",
       "    <tr style=\"text-align: right;\">\n",
       "      <th></th>\n",
       "      <th>Date_Onset</th>\n",
       "      <th>Date_Confirmation</th>\n",
       "      <th>Date_Notification</th>\n",
       "      <th>Sex</th>\n",
       "      <th>Age_Group</th>\n",
       "      <th>County_living</th>\n",
       "      <th>Township_living</th>\n",
       "      <th>Village_Living</th>\n",
       "      <th>Village_Living_Code</th>\n",
       "      <th>Enumeration_unit</th>\n",
       "      <th>...</th>\n",
       "      <th>Number_of_confirmed_cases</th>\n",
       "      <th>Serotype</th>\n",
       "      <th>MOI_County_living_Code</th>\n",
       "      <th>MOI_Township_living_Code</th>\n",
       "      <th>MOI_County_living</th>\n",
       "      <th>MOI_Township_living</th>\n",
       "      <th>MOI_County_infected_Code</th>\n",
       "      <th>MOI_Township_infected_Code</th>\n",
       "      <th>MOI_County_infected</th>\n",
       "      <th>MOI_Township_infected</th>\n",
       "    </tr>\n",
       "  </thead>\n",
       "  <tbody>\n",
       "    <tr>\n",
       "      <th>0</th>\n",
       "      <td>1998-01-02</td>\n",
       "      <td>None</td>\n",
       "      <td>1998/01/07</td>\n",
       "      <td>M</td>\n",
       "      <td>40-44</td>\n",
       "      <td>Pingtung County</td>\n",
       "      <td>Pingtung City</td>\n",
       "      <td>None</td>\n",
       "      <td>None</td>\n",
       "      <td>A1320-0136-00</td>\n",
       "      <td>...</td>\n",
       "      <td>1</td>\n",
       "      <td>None</td>\n",
       "      <td>10013</td>\n",
       "      <td>1001301</td>\n",
       "      <td>Pingtung County</td>\n",
       "      <td>Pingtung City</td>\n",
       "      <td>None</td>\n",
       "      <td>None</td>\n",
       "      <td>None</td>\n",
       "      <td>None</td>\n",
       "    </tr>\n",
       "    <tr>\n",
       "      <th>1</th>\n",
       "      <td>1998-01-03</td>\n",
       "      <td>None</td>\n",
       "      <td>1998/01/14</td>\n",
       "      <td>M</td>\n",
       "      <td>30-34</td>\n",
       "      <td>Pingtung County</td>\n",
       "      <td>Donggang Township</td>\n",
       "      <td>None</td>\n",
       "      <td>None</td>\n",
       "      <td>A1303-0150-00</td>\n",
       "      <td>...</td>\n",
       "      <td>1</td>\n",
       "      <td>DENV2</td>\n",
       "      <td>10013</td>\n",
       "      <td>1001303</td>\n",
       "      <td>Pingtung County</td>\n",
       "      <td>Donggang Township</td>\n",
       "      <td>None</td>\n",
       "      <td>None</td>\n",
       "      <td>None</td>\n",
       "      <td>None</td>\n",
       "    </tr>\n",
       "    <tr>\n",
       "      <th>2</th>\n",
       "      <td>1998-01-13</td>\n",
       "      <td>None</td>\n",
       "      <td>1998/02/18</td>\n",
       "      <td>M</td>\n",
       "      <td>55-59</td>\n",
       "      <td>Yilan County</td>\n",
       "      <td>Yilan City</td>\n",
       "      <td>None</td>\n",
       "      <td>None</td>\n",
       "      <td>A0201-0449-00</td>\n",
       "      <td>...</td>\n",
       "      <td>1</td>\n",
       "      <td>None</td>\n",
       "      <td>10002</td>\n",
       "      <td>1000201</td>\n",
       "      <td>Yilan County</td>\n",
       "      <td>Yilan City</td>\n",
       "      <td>None</td>\n",
       "      <td>None</td>\n",
       "      <td>None</td>\n",
       "      <td>None</td>\n",
       "    </tr>\n",
       "    <tr>\n",
       "      <th>3</th>\n",
       "      <td>1998-01-15</td>\n",
       "      <td>None</td>\n",
       "      <td>1998/01/23</td>\n",
       "      <td>M</td>\n",
       "      <td>35-39</td>\n",
       "      <td>Kaohsiung City</td>\n",
       "      <td>Lingya Dist.</td>\n",
       "      <td>None</td>\n",
       "      <td>None</td>\n",
       "      <td>A6408-0153-00</td>\n",
       "      <td>...</td>\n",
       "      <td>1</td>\n",
       "      <td>None</td>\n",
       "      <td>64</td>\n",
       "      <td>6400800</td>\n",
       "      <td>Kaohsiung City</td>\n",
       "      <td>Lingya District</td>\n",
       "      <td>None</td>\n",
       "      <td>None</td>\n",
       "      <td>None</td>\n",
       "      <td>None</td>\n",
       "    </tr>\n",
       "    <tr>\n",
       "      <th>4</th>\n",
       "      <td>1998-01-20</td>\n",
       "      <td>None</td>\n",
       "      <td>1998/02/04</td>\n",
       "      <td>M</td>\n",
       "      <td>55-59</td>\n",
       "      <td>Yilan County</td>\n",
       "      <td>Wujie Township</td>\n",
       "      <td>None</td>\n",
       "      <td>None</td>\n",
       "      <td>A0209-0232-00</td>\n",
       "      <td>...</td>\n",
       "      <td>1</td>\n",
       "      <td>None</td>\n",
       "      <td>10002</td>\n",
       "      <td>1000209</td>\n",
       "      <td>Yilan County</td>\n",
       "      <td>Wujie Township</td>\n",
       "      <td>None</td>\n",
       "      <td>None</td>\n",
       "      <td>None</td>\n",
       "      <td>None</td>\n",
       "    </tr>\n",
       "    <tr>\n",
       "      <th>...</th>\n",
       "      <td>...</td>\n",
       "      <td>...</td>\n",
       "      <td>...</td>\n",
       "      <td>...</td>\n",
       "      <td>...</td>\n",
       "      <td>...</td>\n",
       "      <td>...</td>\n",
       "      <td>...</td>\n",
       "      <td>...</td>\n",
       "      <td>...</td>\n",
       "      <td>...</td>\n",
       "      <td>...</td>\n",
       "      <td>...</td>\n",
       "      <td>...</td>\n",
       "      <td>...</td>\n",
       "      <td>...</td>\n",
       "      <td>...</td>\n",
       "      <td>...</td>\n",
       "      <td>...</td>\n",
       "      <td>...</td>\n",
       "      <td>...</td>\n",
       "    </tr>\n",
       "    <tr>\n",
       "      <th>79252</th>\n",
       "      <td>2019-02-22</td>\n",
       "      <td>2019/02/25</td>\n",
       "      <td>2019/02/25</td>\n",
       "      <td>M</td>\n",
       "      <td>20-24</td>\n",
       "      <td>New Taipei City</td>\n",
       "      <td>Sanchong Dist.</td>\n",
       "      <td>Chenggong Vil.</td>\n",
       "      <td>6500200-007</td>\n",
       "      <td>A6502-1269-00</td>\n",
       "      <td>...</td>\n",
       "      <td>1</td>\n",
       "      <td>DENV3</td>\n",
       "      <td>65</td>\n",
       "      <td>6500200</td>\n",
       "      <td>New Taipei City</td>\n",
       "      <td>Sanchong District</td>\n",
       "      <td>None</td>\n",
       "      <td>None</td>\n",
       "      <td>None</td>\n",
       "      <td>None</td>\n",
       "    </tr>\n",
       "    <tr>\n",
       "      <th>79253</th>\n",
       "      <td>2019-02-25</td>\n",
       "      <td>2019/02/28</td>\n",
       "      <td>2019/02/26</td>\n",
       "      <td>M</td>\n",
       "      <td>45-49</td>\n",
       "      <td>Taipei City</td>\n",
       "      <td>Da'an Dist.</td>\n",
       "      <td>None</td>\n",
       "      <td>None</td>\n",
       "      <td>A6303-1103-00</td>\n",
       "      <td>...</td>\n",
       "      <td>1</td>\n",
       "      <td>DENV1</td>\n",
       "      <td>63</td>\n",
       "      <td>6300300</td>\n",
       "      <td>Taipei City</td>\n",
       "      <td>Da-an District</td>\n",
       "      <td>None</td>\n",
       "      <td>None</td>\n",
       "      <td>None</td>\n",
       "      <td>None</td>\n",
       "    </tr>\n",
       "    <tr>\n",
       "      <th>79254</th>\n",
       "      <td>2019-02-25</td>\n",
       "      <td>2019/02/28</td>\n",
       "      <td>2019/02/27</td>\n",
       "      <td>M</td>\n",
       "      <td>20-24</td>\n",
       "      <td>Taichung City</td>\n",
       "      <td>North Dist.</td>\n",
       "      <td>Mingde Vil.</td>\n",
       "      <td>6600500-022</td>\n",
       "      <td>A6605-0120-00</td>\n",
       "      <td>...</td>\n",
       "      <td>1</td>\n",
       "      <td>DENV1</td>\n",
       "      <td>66</td>\n",
       "      <td>6600500</td>\n",
       "      <td>Taichung City</td>\n",
       "      <td>North District</td>\n",
       "      <td>None</td>\n",
       "      <td>None</td>\n",
       "      <td>None</td>\n",
       "      <td>None</td>\n",
       "    </tr>\n",
       "    <tr>\n",
       "      <th>79255</th>\n",
       "      <td>2019-02-26</td>\n",
       "      <td>2019/02/27</td>\n",
       "      <td>2019/02/27</td>\n",
       "      <td>F</td>\n",
       "      <td>20-24</td>\n",
       "      <td>Yunlin County</td>\n",
       "      <td>Shuilin Township</td>\n",
       "      <td>Joupu Vil.</td>\n",
       "      <td>1000920-021</td>\n",
       "      <td>A0920-0335-00</td>\n",
       "      <td>...</td>\n",
       "      <td>1</td>\n",
       "      <td>DENV4</td>\n",
       "      <td>10009</td>\n",
       "      <td>1000920</td>\n",
       "      <td>Yunlin County</td>\n",
       "      <td>Shueilin Township</td>\n",
       "      <td>None</td>\n",
       "      <td>None</td>\n",
       "      <td>None</td>\n",
       "      <td>None</td>\n",
       "    </tr>\n",
       "    <tr>\n",
       "      <th>79256</th>\n",
       "      <td>2019-02-27</td>\n",
       "      <td>2019/03/02</td>\n",
       "      <td>2019/02/28</td>\n",
       "      <td>M</td>\n",
       "      <td>25-29</td>\n",
       "      <td>Kaohsiung City</td>\n",
       "      <td>Qianzhen Dist.</td>\n",
       "      <td>Ren’ai Vil.</td>\n",
       "      <td>6400900-005</td>\n",
       "      <td>A6409-0652-00</td>\n",
       "      <td>...</td>\n",
       "      <td>1</td>\n",
       "      <td>DENV2</td>\n",
       "      <td>64</td>\n",
       "      <td>6400900</td>\n",
       "      <td>Kaohsiung City</td>\n",
       "      <td>Cianjhen Distric</td>\n",
       "      <td>None</td>\n",
       "      <td>None</td>\n",
       "      <td>None</td>\n",
       "      <td>None</td>\n",
       "    </tr>\n",
       "  </tbody>\n",
       "</table>\n",
       "<p>79257 rows × 30 columns</p>\n",
       "</div>"
      ],
      "text/plain": [
       "      Date_Onset Date_Confirmation Date_Notification Sex Age_Group  \\\n",
       "0     1998-01-02              None        1998/01/07   M     40-44   \n",
       "1     1998-01-03              None        1998/01/14   M     30-34   \n",
       "2     1998-01-13              None        1998/02/18   M     55-59   \n",
       "3     1998-01-15              None        1998/01/23   M     35-39   \n",
       "4     1998-01-20              None        1998/02/04   M     55-59   \n",
       "...          ...               ...               ...  ..       ...   \n",
       "79252 2019-02-22        2019/02/25        2019/02/25   M     20-24   \n",
       "79253 2019-02-25        2019/02/28        2019/02/26   M     45-49   \n",
       "79254 2019-02-25        2019/02/28        2019/02/27   M     20-24   \n",
       "79255 2019-02-26        2019/02/27        2019/02/27   F     20-24   \n",
       "79256 2019-02-27        2019/03/02        2019/02/28   M     25-29   \n",
       "\n",
       "         County_living    Township_living  Village_Living Village_Living_Code  \\\n",
       "0      Pingtung County      Pingtung City            None                None   \n",
       "1      Pingtung County  Donggang Township            None                None   \n",
       "2         Yilan County         Yilan City            None                None   \n",
       "3       Kaohsiung City       Lingya Dist.            None                None   \n",
       "4         Yilan County     Wujie Township            None                None   \n",
       "...                ...                ...             ...                 ...   \n",
       "79252  New Taipei City     Sanchong Dist.  Chenggong Vil.         6500200-007   \n",
       "79253      Taipei City        Da'an Dist.            None                None   \n",
       "79254    Taichung City        North Dist.     Mingde Vil.         6600500-022   \n",
       "79255    Yunlin County   Shuilin Township      Joupu Vil.         1000920-021   \n",
       "79256   Kaohsiung City     Qianzhen Dist.     Ren’ai Vil.         6400900-005   \n",
       "\n",
       "      Enumeration_unit  ... Number_of_confirmed_cases Serotype  \\\n",
       "0        A1320-0136-00  ...                         1     None   \n",
       "1        A1303-0150-00  ...                         1    DENV2   \n",
       "2        A0201-0449-00  ...                         1     None   \n",
       "3        A6408-0153-00  ...                         1     None   \n",
       "4        A0209-0232-00  ...                         1     None   \n",
       "...                ...  ...                       ...      ...   \n",
       "79252    A6502-1269-00  ...                         1    DENV3   \n",
       "79253    A6303-1103-00  ...                         1    DENV1   \n",
       "79254    A6605-0120-00  ...                         1    DENV1   \n",
       "79255    A0920-0335-00  ...                         1    DENV4   \n",
       "79256    A6409-0652-00  ...                         1    DENV2   \n",
       "\n",
       "      MOI_County_living_Code MOI_Township_living_Code MOI_County_living  \\\n",
       "0                      10013                  1001301   Pingtung County   \n",
       "1                      10013                  1001303   Pingtung County   \n",
       "2                      10002                  1000201      Yilan County   \n",
       "3                         64                  6400800    Kaohsiung City   \n",
       "4                      10002                  1000209      Yilan County   \n",
       "...                      ...                      ...               ...   \n",
       "79252                     65                  6500200   New Taipei City   \n",
       "79253                     63                  6300300       Taipei City   \n",
       "79254                     66                  6600500     Taichung City   \n",
       "79255                  10009                  1000920     Yunlin County   \n",
       "79256                     64                  6400900    Kaohsiung City   \n",
       "\n",
       "      MOI_Township_living MOI_County_infected_Code MOI_Township_infected_Code  \\\n",
       "0           Pingtung City                     None                       None   \n",
       "1       Donggang Township                     None                       None   \n",
       "2              Yilan City                     None                       None   \n",
       "3         Lingya District                     None                       None   \n",
       "4          Wujie Township                     None                       None   \n",
       "...                   ...                      ...                        ...   \n",
       "79252   Sanchong District                     None                       None   \n",
       "79253      Da-an District                     None                       None   \n",
       "79254      North District                     None                       None   \n",
       "79255   Shueilin Township                     None                       None   \n",
       "79256    Cianjhen Distric                     None                       None   \n",
       "\n",
       "      MOI_County_infected MOI_Township_infected  \n",
       "0                    None                  None  \n",
       "1                    None                  None  \n",
       "2                    None                  None  \n",
       "3                    None                  None  \n",
       "4                    None                  None  \n",
       "...                   ...                   ...  \n",
       "79252                None                  None  \n",
       "79253                None                  None  \n",
       "79254                None                  None  \n",
       "79255                None                  None  \n",
       "79256                None                  None  \n",
       "\n",
       "[79257 rows x 30 columns]"
      ]
     },
     "execution_count": 20,
     "metadata": {},
     "output_type": "execute_result"
    }
   ],
   "source": [
    "df"
   ]
  },
  {
   "cell_type": "code",
   "execution_count": 21,
   "metadata": {},
   "outputs": [
    {
     "data": {
      "text/html": [
       "<div>\n",
       "<style scoped>\n",
       "    .dataframe tbody tr th:only-of-type {\n",
       "        vertical-align: middle;\n",
       "    }\n",
       "\n",
       "    .dataframe tbody tr th {\n",
       "        vertical-align: top;\n",
       "    }\n",
       "\n",
       "    .dataframe thead th {\n",
       "        text-align: right;\n",
       "    }\n",
       "</style>\n",
       "<table border=\"1\" class=\"dataframe\">\n",
       "  <thead>\n",
       "    <tr style=\"text-align: right;\">\n",
       "      <th></th>\n",
       "      <th>Date_Onset</th>\n",
       "      <th>Number_of_confirmed_cases</th>\n",
       "    </tr>\n",
       "  </thead>\n",
       "  <tbody>\n",
       "    <tr>\n",
       "      <th>0</th>\n",
       "      <td>1998-01-02</td>\n",
       "      <td>1</td>\n",
       "    </tr>\n",
       "    <tr>\n",
       "      <th>1</th>\n",
       "      <td>1998-01-03</td>\n",
       "      <td>1</td>\n",
       "    </tr>\n",
       "    <tr>\n",
       "      <th>2</th>\n",
       "      <td>1998-01-13</td>\n",
       "      <td>1</td>\n",
       "    </tr>\n",
       "    <tr>\n",
       "      <th>3</th>\n",
       "      <td>1998-01-15</td>\n",
       "      <td>1</td>\n",
       "    </tr>\n",
       "    <tr>\n",
       "      <th>4</th>\n",
       "      <td>1998-01-20</td>\n",
       "      <td>1</td>\n",
       "    </tr>\n",
       "    <tr>\n",
       "      <th>...</th>\n",
       "      <td>...</td>\n",
       "      <td>...</td>\n",
       "    </tr>\n",
       "    <tr>\n",
       "      <th>79252</th>\n",
       "      <td>2019-02-22</td>\n",
       "      <td>1</td>\n",
       "    </tr>\n",
       "    <tr>\n",
       "      <th>79253</th>\n",
       "      <td>2019-02-25</td>\n",
       "      <td>1</td>\n",
       "    </tr>\n",
       "    <tr>\n",
       "      <th>79254</th>\n",
       "      <td>2019-02-25</td>\n",
       "      <td>1</td>\n",
       "    </tr>\n",
       "    <tr>\n",
       "      <th>79255</th>\n",
       "      <td>2019-02-26</td>\n",
       "      <td>1</td>\n",
       "    </tr>\n",
       "    <tr>\n",
       "      <th>79256</th>\n",
       "      <td>2019-02-27</td>\n",
       "      <td>1</td>\n",
       "    </tr>\n",
       "  </tbody>\n",
       "</table>\n",
       "<p>79257 rows × 2 columns</p>\n",
       "</div>"
      ],
      "text/plain": [
       "      Date_Onset  Number_of_confirmed_cases\n",
       "0     1998-01-02                          1\n",
       "1     1998-01-03                          1\n",
       "2     1998-01-13                          1\n",
       "3     1998-01-15                          1\n",
       "4     1998-01-20                          1\n",
       "...          ...                        ...\n",
       "79252 2019-02-22                          1\n",
       "79253 2019-02-25                          1\n",
       "79254 2019-02-25                          1\n",
       "79255 2019-02-26                          1\n",
       "79256 2019-02-27                          1\n",
       "\n",
       "[79257 rows x 2 columns]"
      ]
     },
     "execution_count": 21,
     "metadata": {},
     "output_type": "execute_result"
    }
   ],
   "source": [
    "df[['Date_Onset','Number_of_confirmed_cases']]"
   ]
  },
  {
   "cell_type": "code",
   "execution_count": 22,
   "metadata": {},
   "outputs": [
    {
     "name": "stdout",
     "output_type": "stream",
     "text": [
      "887\n",
      "289\n",
      "194\n",
      "224\n",
      "251\n",
      "685\n",
      "2173\n",
      "8088\n",
      "20800\n",
      "20106\n",
      "19102\n",
      "6458\n"
     ]
    },
    {
     "data": {
      "image/png": "[encoded data removed]",
      "text/plain": [
       "<Figure size 432x288 with 1 Axes>"
      ]
     },
     "metadata": {},
     "output_type": "display_data"
    }
   ],
   "source": [
    "dicts = {} # membuat dictionary tanpa isi\n",
    "for x in range(1,13):\n",
    "    total = df[df['Date_Onset'].dt.month == x]['Date_Onset'].value_counts().sum()\n",
    "    print(total)\n",
    "    dicts[x] = total\n",
    "srs = pd.Series(dicts) # mengubah tipe data dicts menjadi series\n",
    "srs.plot(kind='barh', title=\"Distribution Cases per Month\") # plotting horizontal bar dengan title\n",
    "plt.show() # menampilkan hasil plot"
   ]
  },
  {
   "cell_type": "code",
   "execution_count": 23,
   "metadata": {},
   "outputs": [
    {
     "data": {
      "text/plain": [
       "<AxesSubplot:>"
      ]
     },
     "execution_count": 23,
     "metadata": {},
     "output_type": "execute_result"
    },
    {
     "data": {
      "image/png": "[encoded data removed]",
      "text/plain": [
       "<Figure size 432x288 with 1 Axes>"
      ]
     },
     "metadata": {},
     "output_type": "display_data"
    }
   ],
   "source": [
    "village = df['County_living']\n",
    "village.value_counts(sort=False).plot.barh()"
   ]
  },
  {
   "cell_type": "code",
   "execution_count": 24,
   "metadata": {},
   "outputs": [
    {
     "data": {
      "text/plain": [
       "<AxesSubplot:>"
      ]
     },
     "execution_count": 24,
     "metadata": {},
     "output_type": "execute_result"
    },
    {
     "data": {
      "image/png": "[encoded data removed]",
      "text/plain": [
       "<Figure size 432x288 with 1 Axes>"
      ]
     },
     "metadata": {},
     "output_type": "display_data"
    }
   ],
   "source": [
    "village.value_counts()[:9].plot.barh()"
   ]
  }
 ],
 "metadata": {
  "interpreter": {
   "hash": "2539f54c693dc26c0daee2b54c5ab50fb60d08439246ffc96c778d81d34f4d06"
  },
  "kernelspec": {
   "display_name": "Python 3.10.4 ('.env': venv)",
   "language": "python",
   "name": "python3"
  },
  "language_info": {
   "codemirror_mode": {
    "name": "ipython",
    "version": 3
   },
   "file_extension": ".py",
   "mimetype": "text/x-python",
   "name": "python",
   "nbconvert_exporter": "python",
   "pygments_lexer": "ipython3",
   "version": "3.9.12"
  },
  "orig_nbformat": 4
 },
 "nbformat": 4,
 "nbformat_minor": 2
}
